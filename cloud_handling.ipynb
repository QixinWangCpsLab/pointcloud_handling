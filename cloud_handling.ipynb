{
 "cells": [
  {
   "cell_type": "code",
   "execution_count": 2,
   "metadata": {},
   "outputs": [
    {
     "ename": "ValueError",
     "evalue": "matmul: Input operand 1 has a mismatch in its core dimension 0, with gufunc signature (n?,k),(k,m?)->(n?,m?) (size 3 is different from 4)",
     "output_type": "error",
     "traceback": [
      "\u001b[1;31m---------------------------------------------------------------------------\u001b[0m",
      "\u001b[1;31mValueError\u001b[0m                                Traceback (most recent call last)",
      "Cell \u001b[1;32mIn[2], line 56\u001b[0m\n\u001b[0;32m     54\u001b[0m root_dir \u001b[38;5;241m=\u001b[39m \u001b[38;5;124m\"\u001b[39m\u001b[38;5;124mC:\u001b[39m\u001b[38;5;130;01m\\\\\u001b[39;00m\u001b[38;5;124mUsers\u001b[39m\u001b[38;5;130;01m\\\\\u001b[39;00m\u001b[38;5;124miansy\u001b[39m\u001b[38;5;130;01m\\\\\u001b[39;00m\u001b[38;5;124mDownloads\u001b[39m\u001b[38;5;130;01m\\\\\u001b[39;00m\u001b[38;5;124mPQ512(32)\u001b[39m\u001b[38;5;124m\"\u001b[39m\n\u001b[0;32m     55\u001b[0m cloud_dirs \u001b[38;5;241m=\u001b[39m [os\u001b[38;5;241m.\u001b[39mpath\u001b[38;5;241m.\u001b[39mjoin(root_dir, d) \u001b[38;5;28;01mfor\u001b[39;00m d \u001b[38;5;129;01min\u001b[39;00m os\u001b[38;5;241m.\u001b[39mlistdir(root_dir) \u001b[38;5;28;01mif\u001b[39;00m os\u001b[38;5;241m.\u001b[39mpath\u001b[38;5;241m.\u001b[39misdir(os\u001b[38;5;241m.\u001b[39mpath\u001b[38;5;241m.\u001b[39mjoin(root_dir, d))]\n\u001b[1;32m---> 56\u001b[0m merged_cloud \u001b[38;5;241m=\u001b[39m \u001b[43mauto_align_clouds\u001b[49m\u001b[43m(\u001b[49m\u001b[43mcloud_dirs\u001b[49m\u001b[43m)\u001b[49m\n\u001b[0;32m     57\u001b[0m o3d\u001b[38;5;241m.\u001b[39mvisualization\u001b[38;5;241m.\u001b[39mdraw_geometries([merged_cloud])\n",
      "Cell \u001b[1;32mIn[2], line 40\u001b[0m, in \u001b[0;36mauto_align_clouds\u001b[1;34m(cloud_dirs)\u001b[0m\n\u001b[0;32m     38\u001b[0m cloud_file \u001b[38;5;241m=\u001b[39m os\u001b[38;5;241m.\u001b[39mpath\u001b[38;5;241m.\u001b[39mjoin(\u001b[38;5;28mdir\u001b[39m, os\u001b[38;5;241m.\u001b[39mlistdir(\u001b[38;5;28mdir\u001b[39m)[\u001b[38;5;241m0\u001b[39m])  \u001b[38;5;66;03m# 假设每个文件夹下只有一个文件\u001b[39;00m\n\u001b[0;32m     39\u001b[0m cloud \u001b[38;5;241m=\u001b[39m o3d\u001b[38;5;241m.\u001b[39mio\u001b[38;5;241m.\u001b[39mread_point_cloud(cloud_file)\n\u001b[1;32m---> 40\u001b[0m transform \u001b[38;5;241m=\u001b[39m \u001b[43mget_transform_matrix\u001b[49m\u001b[43m(\u001b[49m\u001b[43mposition\u001b[49m\u001b[43m,\u001b[49m\u001b[43m \u001b[49m\u001b[43myaw\u001b[49m\u001b[43m)\u001b[49m\n\u001b[0;32m     41\u001b[0m cloud\u001b[38;5;241m.\u001b[39mtransform(transform)\n\u001b[0;32m     42\u001b[0m clouds\u001b[38;5;241m.\u001b[39mappend(cloud)\n",
      "Cell \u001b[1;32mIn[2], line 28\u001b[0m, in \u001b[0;36mget_transform_matrix\u001b[1;34m(position, yaw)\u001b[0m\n\u001b[0;32m     21\u001b[0m rot_matrix \u001b[38;5;241m=\u001b[39m np\u001b[38;5;241m.\u001b[39marray([[cos_yaw, \u001b[38;5;241m-\u001b[39msin_yaw, \u001b[38;5;241m0\u001b[39m],\n\u001b[0;32m     22\u001b[0m                        [sin_yaw, cos_yaw, \u001b[38;5;241m0\u001b[39m],\n\u001b[0;32m     23\u001b[0m                        [\u001b[38;5;241m0\u001b[39m, \u001b[38;5;241m0\u001b[39m, \u001b[38;5;241m1\u001b[39m]])\n\u001b[0;32m     24\u001b[0m trans_matrix \u001b[38;5;241m=\u001b[39m np\u001b[38;5;241m.\u001b[39marray([[\u001b[38;5;241m1\u001b[39m, \u001b[38;5;241m0\u001b[39m, \u001b[38;5;241m0\u001b[39m, position[\u001b[38;5;241m0\u001b[39m]],\n\u001b[0;32m     25\u001b[0m                          [\u001b[38;5;241m0\u001b[39m, \u001b[38;5;241m1\u001b[39m, \u001b[38;5;241m0\u001b[39m, position[\u001b[38;5;241m1\u001b[39m]],\n\u001b[0;32m     26\u001b[0m                          [\u001b[38;5;241m0\u001b[39m, \u001b[38;5;241m0\u001b[39m, \u001b[38;5;241m1\u001b[39m, position[\u001b[38;5;241m2\u001b[39m]],\n\u001b[0;32m     27\u001b[0m                          [\u001b[38;5;241m0\u001b[39m, \u001b[38;5;241m0\u001b[39m, \u001b[38;5;241m0\u001b[39m, \u001b[38;5;241m1\u001b[39m]])\n\u001b[1;32m---> 28\u001b[0m \u001b[38;5;28;01mreturn\u001b[39;00m \u001b[43mtrans_matrix\u001b[49m\u001b[43m \u001b[49m\u001b[38;5;241;43m@\u001b[39;49m\u001b[43m \u001b[49m\u001b[43mrot_matrix\u001b[49m\n",
      "\u001b[1;31mValueError\u001b[0m: matmul: Input operand 1 has a mismatch in its core dimension 0, with gufunc signature (n?,k),(k,m?)->(n?,m?) (size 3 is different from 4)"
     ]
    }
   ],
   "source": [
    "import os\n",
    "import re\n",
    "import numpy as np\n",
    "import open3d as o3d\n",
    "import math\n",
    "\n",
    "def parse_foldername(foldername):\n",
    "    # 解析文件夹名,提取位置坐标和朝向角度\n",
    "    match = re.match(r\"\\((-?\\d+\\.?\\d*),\\s*(-?\\d+\\.?\\d*),\\s*(-?\\d+\\.?\\d*)\\),\\s*(\\d+)\", foldername)\n",
    "    if match:\n",
    "        x, y, z = float(match.group(1)), float(match.group(2)), float(match.group(3))\n",
    "        yaw = float(match.group(4))\n",
    "        return (x, y, z), yaw\n",
    "    else:\n",
    "        return None, None\n",
    "\n",
    "def get_transform_matrix(position, yaw):\n",
    "    # 根据位置和朝向计算变换矩阵\n",
    "    yaw_rad = math.radians(yaw)\n",
    "    cos_yaw, sin_yaw = math.cos(yaw_rad), math.sin(yaw_rad)\n",
    "    rot_matrix = np.array([[cos_yaw, -sin_yaw, 0, 0],\n",
    "                           [sin_yaw, cos_yaw, 0, 0],\n",
    "                           [0, 0, 1, 0],\n",
    "                           [0, 0, 0, 1]])\n",
    "    trans_matrix = np.array([[1, 0, 0, position[0]],\n",
    "                             [0, 1, 0, position[1]],\n",
    "                             [0, 0, 1, position[2]],\n",
    "                             [0, 0, 0, 1]])\n",
    "    return trans_matrix @ rot_matrix\n",
    "\n",
    "def auto_align_clouds(cloud_dirs):\n",
    "    # 自动拼接点云的主函数\n",
    "    clouds = []\n",
    "    for dir in cloud_dirs:\n",
    "        position, yaw = parse_foldername(os.path.basename(dir))\n",
    "        if position is None:\n",
    "            continue\n",
    "        \n",
    "        cloud_file = os.path.join(dir, os.listdir(dir)[0])  # 假设每个文件夹下只有一个文件\n",
    "        cloud = o3d.io.read_point_cloud(cloud_file)\n",
    "        transform = get_transform_matrix(position, yaw)\n",
    "        cloud.transform(transform)\n",
    "        clouds.append(cloud)\n",
    "    \n",
    "    merged_cloud = clouds[0]\n",
    "    for cloud in clouds[1:]:\n",
    "        merged_cloud += cloud\n",
    "    \n",
    "    o3d.io.write_point_cloud(\"merged_cloud.pcd\", merged_cloud)\n",
    "    \n",
    "    return merged_cloud\n",
    "\n",
    "if __name__ == \"__main__\":\n",
    "    # 指定包含点云文件夹的根目录路径\n",
    "    root_dir = \"C:\\\\Users\\\\iansy\\\\Downloads\\\\PQ512(32)\"\n",
    "    cloud_dirs = [os.path.join(root_dir, d) for d in os.listdir(root_dir) if os.path.isdir(os.path.join(root_dir, d))]\n",
    "    merged_cloud = auto_align_clouds(cloud_dirs)\n",
    "    o3d.visualization.draw_geometries([merged_cloud])"
   ]
  }
 ],
 "metadata": {
  "kernelspec": {
   "display_name": "cloud_handling",
   "language": "python",
   "name": "python3"
  },
  "language_info": {
   "codemirror_mode": {
    "name": "ipython",
    "version": 3
   },
   "file_extension": ".py",
   "mimetype": "text/x-python",
   "name": "python",
   "nbconvert_exporter": "python",
   "pygments_lexer": "ipython3",
   "version": "3.9.19"
  }
 },
 "nbformat": 4,
 "nbformat_minor": 2
}
